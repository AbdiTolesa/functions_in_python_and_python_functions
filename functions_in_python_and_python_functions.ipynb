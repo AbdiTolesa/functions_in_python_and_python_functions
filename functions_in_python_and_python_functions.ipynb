{
 "cells": [
  {
   "cell_type": "markdown",
   "id": "58f383fc",
   "metadata": {},
   "source": [
    "## Functions in Python"
   ]
  },
  {
   "cell_type": "code",
   "execution_count": 5,
   "id": "f402d1c8",
   "metadata": {},
   "outputs": [
    {
     "name": "stdout",
     "output_type": "stream",
     "text": [
      "{'Python': 3, 'Java': 2, 'PHP': 2, 'Javascript': 2, 'Node': 1}\n"
     ]
    }
   ],
   "source": [
    "def count_items(listing):\n",
    "    d={}\n",
    "    for i in range(len(listing)-1):\n",
    "        x=listing[i]\n",
    "        c=0\n",
    "        for j in range(i,len(listing)):\n",
    "            if listing[j]==listing[i]:\n",
    "                c=c+1\n",
    "        count=dict({x:c})\n",
    "        if x not in d.keys():\n",
    "            d.update(count)\n",
    "    \n",
    "    return d\n",
    "\n",
    "languages =['Python','Java','PHP','Javascript','Node','Python','Java','Python','PHP','Javascript']\n",
    "print (count_items(languages))"
   ]
  },
  {
   "cell_type": "code",
   "execution_count": null,
   "id": "785b67ac",
   "metadata": {},
   "outputs": [],
   "source": []
  }
 ],
 "metadata": {
  "kernelspec": {
   "display_name": "Python 3 (ipykernel)",
   "language": "python",
   "name": "python3"
  },
  "language_info": {
   "codemirror_mode": {
    "name": "ipython",
    "version": 3
   },
   "file_extension": ".py",
   "mimetype": "text/x-python",
   "name": "python",
   "nbconvert_exporter": "python",
   "pygments_lexer": "ipython3",
   "version": "3.9.5"
  }
 },
 "nbformat": 4,
 "nbformat_minor": 5
}
